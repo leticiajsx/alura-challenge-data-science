{
  "nbformat": 4,
  "nbformat_minor": 0,
  "metadata": {
    "colab": {
      "name": "analise_dados.ipynb",
      "provenance": [],
      "collapsed_sections": [],
      "mount_file_id": "1lPlEL6P0WiTE9G7nH18sqdqWwROQOfIH",
      "authorship_tag": "ABX9TyPxfGT+QAYBmtS8knwZL0Cs",
      "include_colab_link": true
    },
    "kernelspec": {
      "name": "python3",
      "display_name": "Python 3"
    },
    "language_info": {
      "name": "python"
    }
  },
  "cells": [
    {
      "cell_type": "markdown",
      "metadata": {
        "id": "view-in-github",
        "colab_type": "text"
      },
      "source": [
        "<a href=\"https://colab.research.google.com/github/leticiajsx/alura-challenge-data-science/blob/main/analise_dados.ipynb\" target=\"_parent\"><img src=\"https://colab.research.google.com/assets/colab-badge.svg\" alt=\"Open In Colab\"/></a>"
      ]
    },
    {
      "cell_type": "markdown",
      "source": [
        "# Semana 2 - Analise dos dados"
      ],
      "metadata": {
        "id": "xRRmOi97b2YY"
      }
    },
    {
      "cell_type": "markdown",
      "source": [
        "### Importando bibliotecas"
      ],
      "metadata": {
        "id": "472lz1V3cTnE"
      }
    },
    {
      "cell_type": "code",
      "execution_count": 192,
      "metadata": {
        "id": "ZWFIiUIxbGVl"
      },
      "outputs": [],
      "source": [
        "import pandas as pd\n",
        "import seaborn as sns\n",
        "import matplotlib.pyplot as plt"
      ]
    },
    {
      "cell_type": "markdown",
      "source": [
        "### Obter dados"
      ],
      "metadata": {
        "id": "qr_sZwoJcbLG"
      }
    },
    {
      "cell_type": "code",
      "source": [
        "dados = pd.read_csv('/content/drive/MyDrive/alura challenge DS 1/Telco-Customer-Churn-limpeza.csv')\n",
        "dados"
      ],
      "metadata": {
        "colab": {
          "base_uri": "https://localhost:8080/",
          "height": 626
        },
        "id": "det7m7ZRcffF",
        "outputId": "195c06a5-6255-494a-8f5b-bd8992bfb15d"
      },
      "execution_count": 193,
      "outputs": [
        {
          "output_type": "execute_result",
          "data": {
            "text/plain": [
              "      id_cliente cancelou     genero idoso possui_parceiro possui_dependentes  \\\n",
              "0     0002-ORFBO      nao   feminino   nao             sim                sim   \n",
              "1     0003-MKNFE      nao  masculino   nao             nao                nao   \n",
              "2     0004-TLHLJ      sim  masculino   nao             nao                nao   \n",
              "3     0011-IGKFF      sim  masculino   sim             sim                nao   \n",
              "4     0013-EXCHZ      sim   feminino   sim             sim                nao   \n",
              "...          ...      ...        ...   ...             ...                ...   \n",
              "7027  9987-LUTYD      nao   feminino   nao             nao                nao   \n",
              "7028  9992-RRAMN      sim  masculino   nao             sim                nao   \n",
              "7029  9992-UJOEL      nao  masculino   nao             nao                nao   \n",
              "7030  9993-LHIEB      nao  masculino   nao             sim                sim   \n",
              "7031  9995-HOTOH      nao  masculino   nao             sim                sim   \n",
              "\n",
              "      meses_contrato servico_telefone      multiplas_linhas servico_internet  \\\n",
              "0                  9              sim                   nao              DSL   \n",
              "1                  9              sim                   sim              DSL   \n",
              "2                  4              sim                   nao     fibra optica   \n",
              "3                 13              sim                   nao     fibra optica   \n",
              "4                  3              sim                   nao     fibra optica   \n",
              "...              ...              ...                   ...              ...   \n",
              "7027              13              sim                   nao              DSL   \n",
              "7028              22              sim                   sim     fibra optica   \n",
              "7029               2              sim                   nao              DSL   \n",
              "7030              67              sim                   nao              DSL   \n",
              "7031              63              nao  sem servico telefone              DSL   \n",
              "\n",
              "      ... protecao_dispositivo suporte_tecnico possui_tv possui_filmes  \\\n",
              "0     ...                  nao             sim       sim           nao   \n",
              "1     ...                  nao             nao       nao           sim   \n",
              "2     ...                  sim             nao       nao           nao   \n",
              "3     ...                  sim             nao       sim           sim   \n",
              "4     ...                  nao             sim       sim           nao   \n",
              "...   ...                  ...             ...       ...           ...   \n",
              "7027  ...                  nao             sim       nao           nao   \n",
              "7028  ...                  nao             nao       nao           sim   \n",
              "7029  ...                  nao             nao       nao           nao   \n",
              "7030  ...                  sim             sim       nao           sim   \n",
              "7031  ...                  sim             nao       sim           sim   \n",
              "\n",
              "     tipo_contrato fatura_online    forma_pagamento total_mensal total_gasto  \\\n",
              "0           um ano           sim             cheque        65.60      593.30   \n",
              "1           mensal           nao             cheque        59.90      542.40   \n",
              "2           mensal           sim  cheque eletronico        73.90      280.85   \n",
              "3           mensal           sim  cheque eletronico        98.00     1237.85   \n",
              "4           mensal           sim             cheque        83.90      267.40   \n",
              "...            ...           ...                ...          ...         ...   \n",
              "7027        um ano           nao             cheque        55.15      742.90   \n",
              "7028        mensal           sim  cheque eletronico        85.10     1873.70   \n",
              "7029        mensal           sim             cheque        50.30       92.75   \n",
              "7030     dois anos           nao             cheque        67.85     4627.65   \n",
              "7031     dois anos           nao  cheque eletronico        59.00     3707.60   \n",
              "\n",
              "      total_diario  \n",
              "0         2.186667  \n",
              "1         1.996667  \n",
              "2         2.463333  \n",
              "3         3.266667  \n",
              "4         2.796667  \n",
              "...            ...  \n",
              "7027      1.838333  \n",
              "7028      2.836667  \n",
              "7029      1.676667  \n",
              "7030      2.261667  \n",
              "7031      1.966667  \n",
              "\n",
              "[7032 rows x 22 columns]"
            ],
            "text/html": [
              "\n",
              "  <div id=\"df-1fc6b0f5-fcc3-4c6c-a1b7-a98efb59ccb9\">\n",
              "    <div class=\"colab-df-container\">\n",
              "      <div>\n",
              "<style scoped>\n",
              "    .dataframe tbody tr th:only-of-type {\n",
              "        vertical-align: middle;\n",
              "    }\n",
              "\n",
              "    .dataframe tbody tr th {\n",
              "        vertical-align: top;\n",
              "    }\n",
              "\n",
              "    .dataframe thead th {\n",
              "        text-align: right;\n",
              "    }\n",
              "</style>\n",
              "<table border=\"1\" class=\"dataframe\">\n",
              "  <thead>\n",
              "    <tr style=\"text-align: right;\">\n",
              "      <th></th>\n",
              "      <th>id_cliente</th>\n",
              "      <th>cancelou</th>\n",
              "      <th>genero</th>\n",
              "      <th>idoso</th>\n",
              "      <th>possui_parceiro</th>\n",
              "      <th>possui_dependentes</th>\n",
              "      <th>meses_contrato</th>\n",
              "      <th>servico_telefone</th>\n",
              "      <th>multiplas_linhas</th>\n",
              "      <th>servico_internet</th>\n",
              "      <th>...</th>\n",
              "      <th>protecao_dispositivo</th>\n",
              "      <th>suporte_tecnico</th>\n",
              "      <th>possui_tv</th>\n",
              "      <th>possui_filmes</th>\n",
              "      <th>tipo_contrato</th>\n",
              "      <th>fatura_online</th>\n",
              "      <th>forma_pagamento</th>\n",
              "      <th>total_mensal</th>\n",
              "      <th>total_gasto</th>\n",
              "      <th>total_diario</th>\n",
              "    </tr>\n",
              "  </thead>\n",
              "  <tbody>\n",
              "    <tr>\n",
              "      <th>0</th>\n",
              "      <td>0002-ORFBO</td>\n",
              "      <td>nao</td>\n",
              "      <td>feminino</td>\n",
              "      <td>nao</td>\n",
              "      <td>sim</td>\n",
              "      <td>sim</td>\n",
              "      <td>9</td>\n",
              "      <td>sim</td>\n",
              "      <td>nao</td>\n",
              "      <td>DSL</td>\n",
              "      <td>...</td>\n",
              "      <td>nao</td>\n",
              "      <td>sim</td>\n",
              "      <td>sim</td>\n",
              "      <td>nao</td>\n",
              "      <td>um ano</td>\n",
              "      <td>sim</td>\n",
              "      <td>cheque</td>\n",
              "      <td>65.60</td>\n",
              "      <td>593.30</td>\n",
              "      <td>2.186667</td>\n",
              "    </tr>\n",
              "    <tr>\n",
              "      <th>1</th>\n",
              "      <td>0003-MKNFE</td>\n",
              "      <td>nao</td>\n",
              "      <td>masculino</td>\n",
              "      <td>nao</td>\n",
              "      <td>nao</td>\n",
              "      <td>nao</td>\n",
              "      <td>9</td>\n",
              "      <td>sim</td>\n",
              "      <td>sim</td>\n",
              "      <td>DSL</td>\n",
              "      <td>...</td>\n",
              "      <td>nao</td>\n",
              "      <td>nao</td>\n",
              "      <td>nao</td>\n",
              "      <td>sim</td>\n",
              "      <td>mensal</td>\n",
              "      <td>nao</td>\n",
              "      <td>cheque</td>\n",
              "      <td>59.90</td>\n",
              "      <td>542.40</td>\n",
              "      <td>1.996667</td>\n",
              "    </tr>\n",
              "    <tr>\n",
              "      <th>2</th>\n",
              "      <td>0004-TLHLJ</td>\n",
              "      <td>sim</td>\n",
              "      <td>masculino</td>\n",
              "      <td>nao</td>\n",
              "      <td>nao</td>\n",
              "      <td>nao</td>\n",
              "      <td>4</td>\n",
              "      <td>sim</td>\n",
              "      <td>nao</td>\n",
              "      <td>fibra optica</td>\n",
              "      <td>...</td>\n",
              "      <td>sim</td>\n",
              "      <td>nao</td>\n",
              "      <td>nao</td>\n",
              "      <td>nao</td>\n",
              "      <td>mensal</td>\n",
              "      <td>sim</td>\n",
              "      <td>cheque eletronico</td>\n",
              "      <td>73.90</td>\n",
              "      <td>280.85</td>\n",
              "      <td>2.463333</td>\n",
              "    </tr>\n",
              "    <tr>\n",
              "      <th>3</th>\n",
              "      <td>0011-IGKFF</td>\n",
              "      <td>sim</td>\n",
              "      <td>masculino</td>\n",
              "      <td>sim</td>\n",
              "      <td>sim</td>\n",
              "      <td>nao</td>\n",
              "      <td>13</td>\n",
              "      <td>sim</td>\n",
              "      <td>nao</td>\n",
              "      <td>fibra optica</td>\n",
              "      <td>...</td>\n",
              "      <td>sim</td>\n",
              "      <td>nao</td>\n",
              "      <td>sim</td>\n",
              "      <td>sim</td>\n",
              "      <td>mensal</td>\n",
              "      <td>sim</td>\n",
              "      <td>cheque eletronico</td>\n",
              "      <td>98.00</td>\n",
              "      <td>1237.85</td>\n",
              "      <td>3.266667</td>\n",
              "    </tr>\n",
              "    <tr>\n",
              "      <th>4</th>\n",
              "      <td>0013-EXCHZ</td>\n",
              "      <td>sim</td>\n",
              "      <td>feminino</td>\n",
              "      <td>sim</td>\n",
              "      <td>sim</td>\n",
              "      <td>nao</td>\n",
              "      <td>3</td>\n",
              "      <td>sim</td>\n",
              "      <td>nao</td>\n",
              "      <td>fibra optica</td>\n",
              "      <td>...</td>\n",
              "      <td>nao</td>\n",
              "      <td>sim</td>\n",
              "      <td>sim</td>\n",
              "      <td>nao</td>\n",
              "      <td>mensal</td>\n",
              "      <td>sim</td>\n",
              "      <td>cheque</td>\n",
              "      <td>83.90</td>\n",
              "      <td>267.40</td>\n",
              "      <td>2.796667</td>\n",
              "    </tr>\n",
              "    <tr>\n",
              "      <th>...</th>\n",
              "      <td>...</td>\n",
              "      <td>...</td>\n",
              "      <td>...</td>\n",
              "      <td>...</td>\n",
              "      <td>...</td>\n",
              "      <td>...</td>\n",
              "      <td>...</td>\n",
              "      <td>...</td>\n",
              "      <td>...</td>\n",
              "      <td>...</td>\n",
              "      <td>...</td>\n",
              "      <td>...</td>\n",
              "      <td>...</td>\n",
              "      <td>...</td>\n",
              "      <td>...</td>\n",
              "      <td>...</td>\n",
              "      <td>...</td>\n",
              "      <td>...</td>\n",
              "      <td>...</td>\n",
              "      <td>...</td>\n",
              "      <td>...</td>\n",
              "    </tr>\n",
              "    <tr>\n",
              "      <th>7027</th>\n",
              "      <td>9987-LUTYD</td>\n",
              "      <td>nao</td>\n",
              "      <td>feminino</td>\n",
              "      <td>nao</td>\n",
              "      <td>nao</td>\n",
              "      <td>nao</td>\n",
              "      <td>13</td>\n",
              "      <td>sim</td>\n",
              "      <td>nao</td>\n",
              "      <td>DSL</td>\n",
              "      <td>...</td>\n",
              "      <td>nao</td>\n",
              "      <td>sim</td>\n",
              "      <td>nao</td>\n",
              "      <td>nao</td>\n",
              "      <td>um ano</td>\n",
              "      <td>nao</td>\n",
              "      <td>cheque</td>\n",
              "      <td>55.15</td>\n",
              "      <td>742.90</td>\n",
              "      <td>1.838333</td>\n",
              "    </tr>\n",
              "    <tr>\n",
              "      <th>7028</th>\n",
              "      <td>9992-RRAMN</td>\n",
              "      <td>sim</td>\n",
              "      <td>masculino</td>\n",
              "      <td>nao</td>\n",
              "      <td>sim</td>\n",
              "      <td>nao</td>\n",
              "      <td>22</td>\n",
              "      <td>sim</td>\n",
              "      <td>sim</td>\n",
              "      <td>fibra optica</td>\n",
              "      <td>...</td>\n",
              "      <td>nao</td>\n",
              "      <td>nao</td>\n",
              "      <td>nao</td>\n",
              "      <td>sim</td>\n",
              "      <td>mensal</td>\n",
              "      <td>sim</td>\n",
              "      <td>cheque eletronico</td>\n",
              "      <td>85.10</td>\n",
              "      <td>1873.70</td>\n",
              "      <td>2.836667</td>\n",
              "    </tr>\n",
              "    <tr>\n",
              "      <th>7029</th>\n",
              "      <td>9992-UJOEL</td>\n",
              "      <td>nao</td>\n",
              "      <td>masculino</td>\n",
              "      <td>nao</td>\n",
              "      <td>nao</td>\n",
              "      <td>nao</td>\n",
              "      <td>2</td>\n",
              "      <td>sim</td>\n",
              "      <td>nao</td>\n",
              "      <td>DSL</td>\n",
              "      <td>...</td>\n",
              "      <td>nao</td>\n",
              "      <td>nao</td>\n",
              "      <td>nao</td>\n",
              "      <td>nao</td>\n",
              "      <td>mensal</td>\n",
              "      <td>sim</td>\n",
              "      <td>cheque</td>\n",
              "      <td>50.30</td>\n",
              "      <td>92.75</td>\n",
              "      <td>1.676667</td>\n",
              "    </tr>\n",
              "    <tr>\n",
              "      <th>7030</th>\n",
              "      <td>9993-LHIEB</td>\n",
              "      <td>nao</td>\n",
              "      <td>masculino</td>\n",
              "      <td>nao</td>\n",
              "      <td>sim</td>\n",
              "      <td>sim</td>\n",
              "      <td>67</td>\n",
              "      <td>sim</td>\n",
              "      <td>nao</td>\n",
              "      <td>DSL</td>\n",
              "      <td>...</td>\n",
              "      <td>sim</td>\n",
              "      <td>sim</td>\n",
              "      <td>nao</td>\n",
              "      <td>sim</td>\n",
              "      <td>dois anos</td>\n",
              "      <td>nao</td>\n",
              "      <td>cheque</td>\n",
              "      <td>67.85</td>\n",
              "      <td>4627.65</td>\n",
              "      <td>2.261667</td>\n",
              "    </tr>\n",
              "    <tr>\n",
              "      <th>7031</th>\n",
              "      <td>9995-HOTOH</td>\n",
              "      <td>nao</td>\n",
              "      <td>masculino</td>\n",
              "      <td>nao</td>\n",
              "      <td>sim</td>\n",
              "      <td>sim</td>\n",
              "      <td>63</td>\n",
              "      <td>nao</td>\n",
              "      <td>sem servico telefone</td>\n",
              "      <td>DSL</td>\n",
              "      <td>...</td>\n",
              "      <td>sim</td>\n",
              "      <td>nao</td>\n",
              "      <td>sim</td>\n",
              "      <td>sim</td>\n",
              "      <td>dois anos</td>\n",
              "      <td>nao</td>\n",
              "      <td>cheque eletronico</td>\n",
              "      <td>59.00</td>\n",
              "      <td>3707.60</td>\n",
              "      <td>1.966667</td>\n",
              "    </tr>\n",
              "  </tbody>\n",
              "</table>\n",
              "<p>7032 rows × 22 columns</p>\n",
              "</div>\n",
              "      <button class=\"colab-df-convert\" onclick=\"convertToInteractive('df-1fc6b0f5-fcc3-4c6c-a1b7-a98efb59ccb9')\"\n",
              "              title=\"Convert this dataframe to an interactive table.\"\n",
              "              style=\"display:none;\">\n",
              "        \n",
              "  <svg xmlns=\"http://www.w3.org/2000/svg\" height=\"24px\"viewBox=\"0 0 24 24\"\n",
              "       width=\"24px\">\n",
              "    <path d=\"M0 0h24v24H0V0z\" fill=\"none\"/>\n",
              "    <path d=\"M18.56 5.44l.94 2.06.94-2.06 2.06-.94-2.06-.94-.94-2.06-.94 2.06-2.06.94zm-11 1L8.5 8.5l.94-2.06 2.06-.94-2.06-.94L8.5 2.5l-.94 2.06-2.06.94zm10 10l.94 2.06.94-2.06 2.06-.94-2.06-.94-.94-2.06-.94 2.06-2.06.94z\"/><path d=\"M17.41 7.96l-1.37-1.37c-.4-.4-.92-.59-1.43-.59-.52 0-1.04.2-1.43.59L10.3 9.45l-7.72 7.72c-.78.78-.78 2.05 0 2.83L4 21.41c.39.39.9.59 1.41.59.51 0 1.02-.2 1.41-.59l7.78-7.78 2.81-2.81c.8-.78.8-2.07 0-2.86zM5.41 20L4 18.59l7.72-7.72 1.47 1.35L5.41 20z\"/>\n",
              "  </svg>\n",
              "      </button>\n",
              "      \n",
              "  <style>\n",
              "    .colab-df-container {\n",
              "      display:flex;\n",
              "      flex-wrap:wrap;\n",
              "      gap: 12px;\n",
              "    }\n",
              "\n",
              "    .colab-df-convert {\n",
              "      background-color: #E8F0FE;\n",
              "      border: none;\n",
              "      border-radius: 50%;\n",
              "      cursor: pointer;\n",
              "      display: none;\n",
              "      fill: #1967D2;\n",
              "      height: 32px;\n",
              "      padding: 0 0 0 0;\n",
              "      width: 32px;\n",
              "    }\n",
              "\n",
              "    .colab-df-convert:hover {\n",
              "      background-color: #E2EBFA;\n",
              "      box-shadow: 0px 1px 2px rgba(60, 64, 67, 0.3), 0px 1px 3px 1px rgba(60, 64, 67, 0.15);\n",
              "      fill: #174EA6;\n",
              "    }\n",
              "\n",
              "    [theme=dark] .colab-df-convert {\n",
              "      background-color: #3B4455;\n",
              "      fill: #D2E3FC;\n",
              "    }\n",
              "\n",
              "    [theme=dark] .colab-df-convert:hover {\n",
              "      background-color: #434B5C;\n",
              "      box-shadow: 0px 1px 3px 1px rgba(0, 0, 0, 0.15);\n",
              "      filter: drop-shadow(0px 1px 2px rgba(0, 0, 0, 0.3));\n",
              "      fill: #FFFFFF;\n",
              "    }\n",
              "  </style>\n",
              "\n",
              "      <script>\n",
              "        const buttonEl =\n",
              "          document.querySelector('#df-1fc6b0f5-fcc3-4c6c-a1b7-a98efb59ccb9 button.colab-df-convert');\n",
              "        buttonEl.style.display =\n",
              "          google.colab.kernel.accessAllowed ? 'block' : 'none';\n",
              "\n",
              "        async function convertToInteractive(key) {\n",
              "          const element = document.querySelector('#df-1fc6b0f5-fcc3-4c6c-a1b7-a98efb59ccb9');\n",
              "          const dataTable =\n",
              "            await google.colab.kernel.invokeFunction('convertToInteractive',\n",
              "                                                     [key], {});\n",
              "          if (!dataTable) return;\n",
              "\n",
              "          const docLinkHtml = 'Like what you see? Visit the ' +\n",
              "            '<a target=\"_blank\" href=https://colab.research.google.com/notebooks/data_table.ipynb>data table notebook</a>'\n",
              "            + ' to learn more about interactive tables.';\n",
              "          element.innerHTML = '';\n",
              "          dataTable['output_type'] = 'display_data';\n",
              "          await google.colab.output.renderOutput(dataTable, element);\n",
              "          const docLink = document.createElement('div');\n",
              "          docLink.innerHTML = docLinkHtml;\n",
              "          element.appendChild(docLink);\n",
              "        }\n",
              "      </script>\n",
              "    </div>\n",
              "  </div>\n",
              "  "
            ]
          },
          "metadata": {},
          "execution_count": 193
        }
      ]
    },
    {
      "cell_type": "markdown",
      "source": [
        "### Analisar a variável target: Churn"
      ],
      "metadata": {
        "id": "nQ1DmzQVk_-S"
      }
    },
    {
      "cell_type": "code",
      "source": [
        "dados['cancelou'].describe()"
      ],
      "metadata": {
        "colab": {
          "base_uri": "https://localhost:8080/"
        },
        "id": "9kt3_33BlLHo",
        "outputId": "9d76737a-2aa6-4092-b098-a0960f5e7016"
      },
      "execution_count": 194,
      "outputs": [
        {
          "output_type": "execute_result",
          "data": {
            "text/plain": [
              "count     7032\n",
              "unique       2\n",
              "top        nao\n",
              "freq      5163\n",
              "Name: cancelou, dtype: object"
            ]
          },
          "metadata": {},
          "execution_count": 194
        }
      ]
    },
    {
      "cell_type": "markdown",
      "source": [
        "### Visualizar a distribuição"
      ],
      "metadata": {
        "id": "NxnKTh7idave"
      }
    },
    {
      "cell_type": "code",
      "source": [
        "colors = ['#9BBFE0','#E8A09A', '#FBE29F', '#C6D68F', '#BCBABB']"
      ],
      "metadata": {
        "id": "LUqqEqrCn8h8"
      },
      "execution_count": 195,
      "outputs": []
    },
    {
      "cell_type": "code",
      "source": [
        "plt.figure(figsize = (10, 6))\n",
        "\n",
        "ax = dados['cancelou'].value_counts().plot.pie(explode=[0.02,0.02], autopct='%0.2f%%', colors=colors)\n",
        "\n",
        "plt.title('Cancelou', fontsize=12)\n",
        "plt.suptitle('Porcentagem cancelamento', fontsize=16, y=1.05)\n",
        "ax.set_ylabel('')\n",
        "\n",
        "plt.tight_layout()\n",
        "plt.show()"
      ],
      "metadata": {
        "colab": {
          "base_uri": "https://localhost:8080/",
          "height": 474
        },
        "id": "8yF1rSfQddyX",
        "outputId": "5351d35a-25cc-4906-c563-acd8b108b605"
      },
      "execution_count": 196,
      "outputs": [
        {
          "output_type": "display_data",
          "data": {
            "text/plain": [
              "<Figure size 720x432 with 1 Axes>"
            ],
            "image/png": "[encoded data removed]"
          },
          "metadata": {}
        }
      ]
    },
    {
      "cell_type": "markdown",
      "source": [
        "### Visualizações relevantes"
      ],
      "metadata": {
        "id": "TdDl6v4xn06i"
      }
    },
    {
      "cell_type": "markdown",
      "source": [
        "Será que idosos cancelam mais os serviços?"
      ],
      "metadata": {
        "id": "mRTnGDLPtqE-"
      }
    },
    {
      "cell_type": "code",
      "source": [
        "plt.figure(figsize = (10, 6))\n",
        "\n",
        "ax = sns.countplot(x='cancelou', hue='idoso', data=dados, palette=colors)\n",
        "\n",
        "ax.set_ylabel('')\n",
        "\n",
        "plt.tight_layout()\n",
        "plt.show()"
      ],
      "metadata": {
        "colab": {
          "base_uri": "https://localhost:8080/",
          "height": 441
        },
        "id": "5gFb3WBLee2N",
        "outputId": "5be79f51-d9a6-4026-c857-81d184ea7aba"
      },
      "execution_count": 197,
      "outputs": [
        {
          "output_type": "display_data",
          "data": {
            "text/plain": [
              "<Figure size 720x432 with 1 Axes>"
            ],
            "image/png": "[encoded data removed]"
          },
          "metadata": {
            "needs_background": "light"
          }
        }
      ]
    },
    {
      "cell_type": "markdown",
      "source": [
        "Visualizando esse gráfico podemos concluir que os idosos não são os que mais cancelam o serviço, porem a quantidade de idosos que possuem o serviço é bem menor em comparação a outras idades."
      ],
      "metadata": {
        "id": "ORn0D7tVt2DT"
      }
    },
    {
      "cell_type": "markdown",
      "source": [
        ""
      ],
      "metadata": {
        "id": "kPc03eV_2DGh"
      }
    },
    {
      "cell_type": "markdown",
      "source": [
        "  Entre homens e mulheres, qual cancela mais?"
      ],
      "metadata": {
        "id": "bWYvj2cT2DWy"
      }
    },
    {
      "cell_type": "code",
      "source": [
        "g = sns.FacetGrid(dados, col='cancelou', height=5)\n",
        "g.map(sns.countplot, 'genero', color=colors[3], order=['masculino', 'feminino'])\n",
        "\n",
        "plt.tight_layout()\n",
        "plt.show()"
      ],
      "metadata": {
        "colab": {
          "base_uri": "https://localhost:8080/",
          "height": 369
        },
        "id": "SXKfJq5ZneKR",
        "outputId": "eb3589e3-0ecf-4dde-de25-dd992f4cd607"
      },
      "execution_count": 198,
      "outputs": [
        {
          "output_type": "display_data",
          "data": {
            "text/plain": [
              "<Figure size 720x360 with 2 Axes>"
            ],
            "image/png": "[encoded data removed]"
          },
          "metadata": {
            "needs_background": "light"
          }
        }
      ]
    },
    {
      "cell_type": "markdown",
      "source": [
        "A diferença de cancelamento entre os dois gêneros é muito pequena."
      ],
      "metadata": {
        "id": "Z_apP5Sd2Jdo"
      }
    },
    {
      "cell_type": "markdown",
      "source": [
        "### Analisar correlação"
      ],
      "metadata": {
        "id": "XvXUwckZ49BL"
      }
    },
    {
      "cell_type": "code",
      "source": [
        "dados.corr()"
      ],
      "metadata": {
        "colab": {
          "base_uri": "https://localhost:8080/",
          "height": 175
        },
        "id": "V2jIi1DR5CMF",
        "outputId": "66a8628f-3181-4fbd-f87f-0dd3236b2236"
      },
      "execution_count": 199,
      "outputs": [
        {
          "output_type": "execute_result",
          "data": {
            "text/plain": [
              "                meses_contrato  total_mensal  total_gasto  total_diario\n",
              "meses_contrato        1.000000      0.246862     0.825880      0.246862\n",
              "total_mensal          0.246862      1.000000     0.651065      1.000000\n",
              "total_gasto           0.825880      0.651065     1.000000      0.651065\n",
              "total_diario          0.246862      1.000000     0.651065      1.000000"
            ],
            "text/html": [
              "\n",
              "  <div id=\"df-bb0d4585-554f-443d-9e82-03e0d7f84c86\">\n",
              "    <div class=\"colab-df-container\">\n",
              "      <div>\n",
              "<style scoped>\n",
              "    .dataframe tbody tr th:only-of-type {\n",
              "        vertical-align: middle;\n",
              "    }\n",
              "\n",
              "    .dataframe tbody tr th {\n",
              "        vertical-align: top;\n",
              "    }\n",
              "\n",
              "    .dataframe thead th {\n",
              "        text-align: right;\n",
              "    }\n",
              "</style>\n",
              "<table border=\"1\" class=\"dataframe\">\n",
              "  <thead>\n",
              "    <tr style=\"text-align: right;\">\n",
              "      <th></th>\n",
              "      <th>meses_contrato</th>\n",
              "      <th>total_mensal</th>\n",
              "      <th>total_gasto</th>\n",
              "      <th>total_diario</th>\n",
              "    </tr>\n",
              "  </thead>\n",
              "  <tbody>\n",
              "    <tr>\n",
              "      <th>meses_contrato</th>\n",
              "      <td>1.000000</td>\n",
              "      <td>0.246862</td>\n",
              "      <td>0.825880</td>\n",
              "      <td>0.246862</td>\n",
              "    </tr>\n",
              "    <tr>\n",
              "      <th>total_mensal</th>\n",
              "      <td>0.246862</td>\n",
              "      <td>1.000000</td>\n",
              "      <td>0.651065</td>\n",
              "      <td>1.000000</td>\n",
              "    </tr>\n",
              "    <tr>\n",
              "      <th>total_gasto</th>\n",
              "      <td>0.825880</td>\n",
              "      <td>0.651065</td>\n",
              "      <td>1.000000</td>\n",
              "      <td>0.651065</td>\n",
              "    </tr>\n",
              "    <tr>\n",
              "      <th>total_diario</th>\n",
              "      <td>0.246862</td>\n",
              "      <td>1.000000</td>\n",
              "      <td>0.651065</td>\n",
              "      <td>1.000000</td>\n",
              "    </tr>\n",
              "  </tbody>\n",
              "</table>\n",
              "</div>\n",
              "      <button class=\"colab-df-convert\" onclick=\"convertToInteractive('df-bb0d4585-554f-443d-9e82-03e0d7f84c86')\"\n",
              "              title=\"Convert this dataframe to an interactive table.\"\n",
              "              style=\"display:none;\">\n",
              "        \n",
              "  <svg xmlns=\"http://www.w3.org/2000/svg\" height=\"24px\"viewBox=\"0 0 24 24\"\n",
              "       width=\"24px\">\n",
              "    <path d=\"M0 0h24v24H0V0z\" fill=\"none\"/>\n",
              "    <path d=\"M18.56 5.44l.94 2.06.94-2.06 2.06-.94-2.06-.94-.94-2.06-.94 2.06-2.06.94zm-11 1L8.5 8.5l.94-2.06 2.06-.94-2.06-.94L8.5 2.5l-.94 2.06-2.06.94zm10 10l.94 2.06.94-2.06 2.06-.94-2.06-.94-.94-2.06-.94 2.06-2.06.94z\"/><path d=\"M17.41 7.96l-1.37-1.37c-.4-.4-.92-.59-1.43-.59-.52 0-1.04.2-1.43.59L10.3 9.45l-7.72 7.72c-.78.78-.78 2.05 0 2.83L4 21.41c.39.39.9.59 1.41.59.51 0 1.02-.2 1.41-.59l7.78-7.78 2.81-2.81c.8-.78.8-2.07 0-2.86zM5.41 20L4 18.59l7.72-7.72 1.47 1.35L5.41 20z\"/>\n",
              "  </svg>\n",
              "      </button>\n",
              "      \n",
              "  <style>\n",
              "    .colab-df-container {\n",
              "      display:flex;\n",
              "      flex-wrap:wrap;\n",
              "      gap: 12px;\n",
              "    }\n",
              "\n",
              "    .colab-df-convert {\n",
              "      background-color: #E8F0FE;\n",
              "      border: none;\n",
              "      border-radius: 50%;\n",
              "      cursor: pointer;\n",
              "      display: none;\n",
              "      fill: #1967D2;\n",
              "      height: 32px;\n",
              "      padding: 0 0 0 0;\n",
              "      width: 32px;\n",
              "    }\n",
              "\n",
              "    .colab-df-convert:hover {\n",
              "      background-color: #E2EBFA;\n",
              "      box-shadow: 0px 1px 2px rgba(60, 64, 67, 0.3), 0px 1px 3px 1px rgba(60, 64, 67, 0.15);\n",
              "      fill: #174EA6;\n",
              "    }\n",
              "\n",
              "    [theme=dark] .colab-df-convert {\n",
              "      background-color: #3B4455;\n",
              "      fill: #D2E3FC;\n",
              "    }\n",
              "\n",
              "    [theme=dark] .colab-df-convert:hover {\n",
              "      background-color: #434B5C;\n",
              "      box-shadow: 0px 1px 3px 1px rgba(0, 0, 0, 0.15);\n",
              "      filter: drop-shadow(0px 1px 2px rgba(0, 0, 0, 0.3));\n",
              "      fill: #FFFFFF;\n",
              "    }\n",
              "  </style>\n",
              "\n",
              "      <script>\n",
              "        const buttonEl =\n",
              "          document.querySelector('#df-bb0d4585-554f-443d-9e82-03e0d7f84c86 button.colab-df-convert');\n",
              "        buttonEl.style.display =\n",
              "          google.colab.kernel.accessAllowed ? 'block' : 'none';\n",
              "\n",
              "        async function convertToInteractive(key) {\n",
              "          const element = document.querySelector('#df-bb0d4585-554f-443d-9e82-03e0d7f84c86');\n",
              "          const dataTable =\n",
              "            await google.colab.kernel.invokeFunction('convertToInteractive',\n",
              "                                                     [key], {});\n",
              "          if (!dataTable) return;\n",
              "\n",
              "          const docLinkHtml = 'Like what you see? Visit the ' +\n",
              "            '<a target=\"_blank\" href=https://colab.research.google.com/notebooks/data_table.ipynb>data table notebook</a>'\n",
              "            + ' to learn more about interactive tables.';\n",
              "          element.innerHTML = '';\n",
              "          dataTable['output_type'] = 'display_data';\n",
              "          await google.colab.output.renderOutput(dataTable, element);\n",
              "          const docLink = document.createElement('div');\n",
              "          docLink.innerHTML = docLinkHtml;\n",
              "          element.appendChild(docLink);\n",
              "        }\n",
              "      </script>\n",
              "    </div>\n",
              "  </div>\n",
              "  "
            ]
          },
          "metadata": {},
          "execution_count": 199
        }
      ]
    },
    {
      "cell_type": "code",
      "source": [
        "plt.figure(figsize=(18, 8))\n",
        "heatmap = sns.heatmap(dados.corr(), vmin=-1, vmax=1, annot=True, cmap='Pastel1_r')\n",
        "heatmap.set_title('Correlação', fontdict={'fontsize':18}, pad=16);"
      ],
      "metadata": {
        "colab": {
          "base_uri": "https://localhost:8080/",
          "height": 514
        },
        "id": "E-vOx82_5ZMJ",
        "outputId": "ac7ac721-0b38-4311-9a4c-c370d0edb20c"
      },
      "execution_count": 200,
      "outputs": [
        {
          "output_type": "display_data",
          "data": {
            "text/plain": [
              "<Figure size 1296x576 with 2 Axes>"
            ],
            "image/png": "[encoded data removed]"
          },
          "metadata": {
            "needs_background": "light"
          }
        }
      ]
    },
    {
      "cell_type": "markdown",
      "source": [
        "Meses de contrato tem uma correlação muito alta com o total gasto, afinal quanto mais tempo de contrato, mais o cliente gastará com o serviço."
      ],
      "metadata": {
        "id": "gTJfjnmH61Po"
      }
    }
  ]
}